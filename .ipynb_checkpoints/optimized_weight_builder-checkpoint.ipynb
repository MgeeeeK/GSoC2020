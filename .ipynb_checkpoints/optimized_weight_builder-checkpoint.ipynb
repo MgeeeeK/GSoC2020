{
 "cells": [
  {
   "cell_type": "markdown",
   "metadata": {},
   "source": [
    "## Testing sparse weight builders\n",
    "\n",
    "All tests are performed on [dual-core, 4 threads, i-5 7200U cpu], Order of testing is as follows:\n",
    "- **lat2SW**\n",
    " - This is being used in 318, cell: [3,4]\n",
    "- **numba-fied**\n",
    " - In short it creates x,y coordinate values which are then used to build sparse `COO_matrix`, cell: [5,6]\n",
    "- **numba+multithreading**\n",
    " - Uses `joblib` with `threading` backend, cell: [7,8]\n",
    "- **without numba**\n",
    " -  ;), cell: 9\n",
    "- **without numba multithreaded**\n",
    " -  This uses loky backend, cell: 10"
   ]
  },
  {
   "cell_type": "code",
   "execution_count": 1,
   "metadata": {
    "scrolled": true
   },
   "outputs": [
    {
     "name": "stderr",
     "output_type": "stream",
     "text": [
      "/data/GSoC/libpysal/libpysal/examples/remotes.py:26: UserWarning: Remote data sets not available. Check connection.\n",
      "  warnings.warn(\"Remote data sets not available. Check connection.\")\n"
     ]
    }
   ],
   "source": [
    "from libpysal.weights import *\n",
    "import numpy as np\n",
    "import xarray as xr\n",
    "%reload_ext memory_profiler"
   ]
  },
  {
   "cell_type": "code",
   "execution_count": 2,
   "metadata": {
    "scrolled": true
   },
   "outputs": [
    {
     "data": {
      "text/plain": [
       "(1, 3515, 5510)"
      ]
     },
     "execution_count": 2,
     "metadata": {},
     "output_type": "execute_result"
    }
   ],
   "source": [
    "da = xr.open_rasterio(\"nasadem_sd.tif\") # Need to shift towards another dataset\n",
    "da.shape"
   ]
  },
  {
   "cell_type": "code",
   "execution_count": 3,
   "metadata": {
    "scrolled": true
   },
   "outputs": [
    {
     "name": "stdout",
     "output_type": "stream",
     "text": [
      "peak memory: 4192.30 MiB, increment: 3933.32 MiB\n"
     ]
    }
   ],
   "source": [
    "# lat2SW\n",
    "%memit da2WSP(da, \"queen\")"
   ]
  },
  {
   "cell_type": "code",
   "execution_count": 4,
   "metadata": {
    "scrolled": true
   },
   "outputs": [
    {
     "name": "stdout",
     "output_type": "stream",
     "text": [
      "7.63 s ± 457 ms per loop (mean ± std. dev. of 7 runs, 1 loop each)\n"
     ]
    }
   ],
   "source": [
    "# lat2SW\n",
    "%timeit da2WSP(da, \"queen\")"
   ]
  },
  {
   "cell_type": "code",
   "execution_count": 5,
   "metadata": {
    "scrolled": true
   },
   "outputs": [
    {
     "name": "stdout",
     "output_type": "stream",
     "text": [
      "peak memory: 2641.27 MiB, increment: 2388.87 MiB\n"
     ]
    }
   ],
   "source": [
    "# numba-fied\n",
    "%memit da2WSP(da, n_jobs=1)"
   ]
  },
  {
   "cell_type": "code",
   "execution_count": 6,
   "metadata": {
    "scrolled": false
   },
   "outputs": [
    {
     "name": "stdout",
     "output_type": "stream",
     "text": [
      "4.36 s ± 53.9 ms per loop (mean ± std. dev. of 7 runs, 1 loop each)\n"
     ]
    }
   ],
   "source": [
    "# numba-fied\n",
    "%timeit da2WSP(da, n_jobs=1)"
   ]
  },
  {
   "cell_type": "code",
   "execution_count": 7,
   "metadata": {},
   "outputs": [
    {
     "name": "stdout",
     "output_type": "stream",
     "text": [
      "peak memory: 2519.84 MiB, increment: 2122.46 MiB\n"
     ]
    }
   ],
   "source": [
    "# numba+multithreading\n",
    "%memit da2WSP(da, n_jobs=-1)"
   ]
  },
  {
   "cell_type": "code",
   "execution_count": 8,
   "metadata": {},
   "outputs": [
    {
     "name": "stdout",
     "output_type": "stream",
     "text": [
      "3.57 s ± 63 ms per loop (mean ± std. dev. of 7 runs, 1 loop each)\n"
     ]
    }
   ],
   "source": [
    "# numba+multithreading\n",
    "%timeit da2WSP(da, n_jobs=-1)"
   ]
  },
  {
   "cell_type": "code",
   "execution_count": 9,
   "metadata": {
    "scrolled": true
   },
   "outputs": [
    {
     "name": "stdout",
     "output_type": "stream",
     "text": [
      "2min 1s ± 5.7 s per loop (mean ± std. dev. of 7 runs, 1 loop each)\n"
     ]
    }
   ],
   "source": [
    "# without numba single thread :)\n",
    "%timeit da2WSP(da, n_jobs=1)"
   ]
  },
  {
   "cell_type": "code",
   "execution_count": 10,
   "metadata": {},
   "outputs": [
    {
     "name": "stdout",
     "output_type": "stream",
     "text": [
      "1min 23s ± 2.7 s per loop (mean ± std. dev. of 7 runs, 1 loop each)\n"
     ]
    }
   ],
   "source": [
    "# without numba multithreaded (loky) :)\n",
    "%timeit da2WSP(da, n_jobs=-1)"
   ]
  }
 ],
 "metadata": {
  "kernelspec": {
   "display_name": "Python 3",
   "language": "python",
   "name": "python3"
  },
  "language_info": {
   "codemirror_mode": {
    "name": "ipython",
    "version": 3
   },
   "file_extension": ".py",
   "mimetype": "text/x-python",
   "name": "python",
   "nbconvert_exporter": "python",
   "pygments_lexer": "ipython3",
   "version": "3.8.3"
  }
 },
 "nbformat": 4,
 "nbformat_minor": 2
}
