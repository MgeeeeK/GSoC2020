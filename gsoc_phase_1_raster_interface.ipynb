{
 "cells": [
  {
   "cell_type": "markdown",
   "metadata": {},
   "source": [
    "# GSoC Phase 1 Raster Interface Progress\n",
    "\n",
    "This notebook will give an overview of the newly added functionality for Raster Interface\n",
    "\n",
    "Till now the focus was mainly on finalizing the API's of different methods to support building weights from `xarray.DataArray` and to go back from `W` object to `xarray.DataArray` "
   ]
  },
  {
   "cell_type": "code",
   "execution_count": 1,
   "metadata": {},
   "outputs": [
    {
     "name": "stderr",
     "output_type": "stream",
     "text": [
      "/data/GSoC/libpysal/libpysal/weights/util.py:20: UserWarning: geopandas not available. Some functionality will be disabled.\n",
      "  warn('geopandas not available. Some functionality will be disabled.')\n"
     ]
    }
   ],
   "source": [
    "%matplotlib inline\n",
    "\n",
    "from libpysal.weights import Rook, Queen, KNN\n",
    "import numpy as np\n",
    "import xarray as xr\n",
    "from esda import Moran_Local"
   ]
  },
  {
   "cell_type": "code",
   "execution_count": null,
   "metadata": {},
   "outputs": [],
   "source": [
    "!wget https://geographicdata.science/book/data/nasadem/nasadem_sd.tif"
   ]
  },
  {
   "cell_type": "markdown",
   "metadata": {},
   "source": [
    "Right now only `xarray.DataArray` is supported, therefore we'll use `open_rasterio`method to access the raster. Since the this method is built on top of `rasterio` hence file type compatibilty of this method is similar to that of `rasterio`. "
   ]
  },
  {
   "cell_type": "code",
   "execution_count": 2,
   "metadata": {},
   "outputs": [],
   "source": [
    "# Multiband band raster data with no missing values\n",
    "da1 = xr.open_rasterio('nasadem_sd.tif')\n",
    "# Slicing the dataarray\n",
    "da1 = da1[:, 0:100, 350:400]"
   ]
  },
  {
   "cell_type": "code",
   "execution_count": 3,
   "metadata": {
    "tags": []
   },
   "outputs": [
    {
     "data": {
      "text/plain": [
       "<matplotlib.collections.QuadMesh at 0x7fe1cb8e2dd0>"
      ]
     },
     "execution_count": 3,
     "metadata": {},
     "output_type": "execute_result"
    },
    {
     "data": {
      "image/png": "[encoded data removed]",
      "text/plain": [
       "<Figure size 432x288 with 2 Axes>"
      ]
     },
     "metadata": {
      "needs_background": "light"
     },
     "output_type": "display_data"
    }
   ],
   "source": [
    "# ploting dataarray after removing missing values\n",
    "da1.where(da1.data>0).plot()"
   ]
  },
  {
   "cell_type": "markdown",
   "metadata": {},
   "source": [
    "We can use `from_xarray` method from the contiguity classes like `Rook` and `Queen`, and also from `KNN`.\n",
    "\n",
    "This uses a util function in raster file called `da2W`, which can also be called directly to build `W` object, similarly `da2WSP` for building `WSP` object"
   ]
  },
  {
   "cell_type": "code",
   "execution_count": 4,
   "metadata": {
    "tags": []
   },
   "outputs": [
    {
     "name": "stdout",
     "output_type": "stream",
     "text": [
      "Help on method from_xarray in module libpysal.weights.contiguity:\n",
      "\n",
      "from_xarray(da, band=None, sparse=False, **kwargs) method of builtins.type instance\n",
      "    Construct a W object from a xarray.DataArray object.\n",
      "    \n",
      "    Parameters\n",
      "    ----------\n",
      "    da         : xarray.DataArray\n",
      "                raster file accessed using xarray.open_rasterio method\n",
      "    band       : int\n",
      "                select band for raster with multiple bands\n",
      "    sparse     : boolean\n",
      "                type of weight object. Default is dense. For sparse, sparse = True\n",
      "    **kwargs   : keyword arguments\n",
      "                optional arguments for :class:`pysal.weights.W`\n",
      "    See Also\n",
      "    --------\n",
      "    :class:`libpysal.weights.weights.W`\n",
      "\n"
     ]
    }
   ],
   "source": [
    "# Let's check the method first\n",
    "help(Rook.from_xarray)"
   ]
  },
  {
   "cell_type": "markdown",
   "metadata": {},
   "source": [
    "One of the main discussion was _what to store from DataArray_ and _in which attribute to to store the data_.\n",
    "\n",
    "Initially we planned to store the _non missing data indices we get when we convert `DataArray` to `pd.Series`_ to **`id_order`** but it was later realized that we cannot modify `id_order` for several reasons one of them being that it is used to iterate over weight object in several functions.\n",
    "\n",
    "Right now I'm adding two attributes _`coords` which stores the indices as mentioned above_ and _`attrs` for storing some metadata of the `DataArray`_ as this will be used when going back to the reverse direction (building DataArray from `W` object).\n",
    "\n",
    "What are your suggestions regarding this, we'll see how both the attributes are being used."
   ]
  },
  {
   "cell_type": "code",
   "execution_count": 5,
   "metadata": {},
   "outputs": [],
   "source": [
    "# function used in from_xarray method\n",
    "def da2W(da, criterion, **kwargs):\n",
    "    \"\"\"\n",
    "    Create a W object from rasters(xarray.DataArray)\n",
    "\n",
    "    Parameters\n",
    "    ----------\n",
    "    da         : xarray.DataArray\n",
    "                 raster file accessed using xarray.open_rasterio method\n",
    "    criterion  : {\"rook\", \"queen\"}\n",
    "                 option for which kind of contiguity to build\n",
    "    Returns\n",
    "    -------\n",
    "    w    : libpysal.weights.W\n",
    "           instance of spatial weights class W\n",
    "    \"\"\"\n",
    "    if criterion != 'rook':\n",
    "        rook = False\n",
    "    else:\n",
    "        rook = True\n",
    "    w = lat2W(*da[0].shape, rook, **kwargs)\n",
    "    ser = da.to_series()\n",
    "    id_order = np.where(ser != da.nodatavals[0])[0]\n",
    "    w = w_subset(w, id_order)\n",
    "    ser = ser[ser != da.nodatavals[0]]\n",
    "    w.coords = ser.index\n",
    "    attrs = da.attrs\n",
    "    attrs[\"dims\"] = da.dims\n",
    "    attrs[\"shape\"] = da.shape\n",
    "    w.attrs = attrs\n",
    "    return w"
   ]
  },
  {
   "cell_type": "code",
   "execution_count": 6,
   "metadata": {},
   "outputs": [],
   "source": [
    "# for creating WSP object from DataArray\n",
    "def da2SW(da, criterion, **kwargs):\n",
    "    \"\"\"\n",
    "    Generate a WSP object from rasters(xarray.DataArray)\n",
    "\n",
    "    Parameters\n",
    "    ----------\n",
    "    da         : xarray.DataArray\n",
    "                 raster file accessed using xarray.open_rasterio method\n",
    "    criterion  : {\"rook\", \"queen\"}\n",
    "                 option for which kind of contiguity to build\n",
    "    Returns\n",
    "    -------\n",
    "    sw    : libpysal.weights.WSP\n",
    "           instance of spatial weights class WSP\n",
    "    \"\"\"\n",
    "    sw = lat2SW(*da[0].shape, criterion)\n",
    "    ser = da.to_series()\n",
    "    id_order = np.where(ser != da.nodatavals[0])[0]\n",
    "    indices = np.where(ser == da.nodatavals[0])[0]\n",
    "    mask = np.ones((sw.shape[0],), dtype=np.bool)\n",
    "    mask[indices] = False\n",
    "    for _ in range(2):\n",
    "        sw = sw[mask]\n",
    "        sw = sw.transpose()\n",
    "        sw = sw.tocsr()\n",
    "    sw = WSP(sw)\n",
    "    sw.id_order = id_order\n",
    "    ser = ser[ser != da.nodatavals[0]]\n",
    "    sw.coords = ser.index\n",
    "    attrs = da.attrs\n",
    "    attrs[\"dims\"] = da.dims\n",
    "    attrs[\"shape\"] = da.shape\n",
    "    sw.attrs = attrs\n",
    "    return sw"
   ]
  },
  {
   "cell_type": "code",
   "execution_count": 7,
   "metadata": {},
   "outputs": [],
   "source": [
    "# Creating weight of object from raster\n",
    "w_rook = Rook.from_xarray(da1)"
   ]
  },
  {
   "cell_type": "markdown",
   "metadata": {},
   "source": [
    "Lets check the new attributes added to the `W` object "
   ]
  },
  {
   "cell_type": "code",
   "execution_count": 8,
   "metadata": {},
   "outputs": [
    {
     "data": {
      "text/plain": [
       "{'transform': (0.0002777777777777778,\n",
       "  0.0,\n",
       "  -117.61125,\n",
       "  0.0,\n",
       "  -0.0002777777777777778,\n",
       "  33.505138888888894),\n",
       " 'crs': '+init=epsg:4326',\n",
       " 'res': (0.0002777777777777778, 0.0002777777777777778),\n",
       " 'is_tiled': 0,\n",
       " 'nodatavals': (-32768.0,),\n",
       " 'scales': (1.0,),\n",
       " 'offsets': (0.0,),\n",
       " 'AREA_OR_POINT': 'Area',\n",
       " 'dims': ('band', 'y', 'x'),\n",
       " 'shape': (1, 100, 50)}"
      ]
     },
     "execution_count": 8,
     "metadata": {},
     "output_type": "execute_result"
    }
   ],
   "source": [
    "# attrs contains the metadata of DataArray \n",
    "w_rook.attrs"
   ]
  },
  {
   "cell_type": "code",
   "execution_count": 9,
   "metadata": {},
   "outputs": [
    {
     "data": {
      "text/plain": [
       "MultiIndex([(1, 33.505, -117.50944444444444),\n",
       "            (1, 33.505, -117.50916666666666),\n",
       "            (1, 33.505, -117.50888888888889),\n",
       "            (1, 33.505, -117.50861111111111),\n",
       "            (1, 33.505, -117.50833333333333)],\n",
       "           names=['band', 'y', 'x'])"
      ]
     },
     "execution_count": 9,
     "metadata": {},
     "output_type": "execute_result"
    }
   ],
   "source": [
    "# coords contains the multi-indices of non-missing data values \n",
    "w_rook.coords[:5]"
   ]
  },
  {
   "cell_type": "markdown",
   "metadata": {},
   "source": [
    "Here we first convert the `DataArray` to `Series` and then use the indices from `coords` attribute to remove missing values by subsetting the `Series` "
   ]
  },
  {
   "cell_type": "code",
   "execution_count": 10,
   "metadata": {},
   "outputs": [
    {
     "data": {
      "text/plain": [
       "band  y       x          \n",
       "1     33.505  -117.509444    256\n",
       "              -117.509167    261\n",
       "              -117.508889    263\n",
       "              -117.508611    263\n",
       "              -117.508333    264\n",
       "dtype: int16"
      ]
     },
     "execution_count": 10,
     "metadata": {},
     "output_type": "execute_result"
    }
   ],
   "source": [
    "# Loading the raster data for further calculation\n",
    "data1 = da1.to_series()[w_rook.coords]\n",
    "data1[:5]"
   ]
  },
  {
   "cell_type": "code",
   "execution_count": 11,
   "metadata": {},
   "outputs": [],
   "source": [
    "# Quickly computing and loading a LISA\n",
    "np.random.seed(12345)\n",
    "lisa = Moran_Local(data1,w_rook)"
   ]
  },
  {
   "cell_type": "markdown",
   "metadata": {},
   "source": [
    "`to_xarray` is an instance method of `W` object which converts the `W` object back to `DataArray`, we can also use `w2da` function directly to do the same."
   ]
  },
  {
   "cell_type": "code",
   "execution_count": 12,
   "metadata": {
    "tags": []
   },
   "outputs": [
    {
     "name": "stdout",
     "output_type": "stream",
     "text": [
      "Help on method to_xarray in module libpysal.weights.weights:\n",
      "\n",
      "to_xarray(data, coords=None) method of libpysal.weights.weights.W instance\n",
      "    converts calculated results to ``xarray.DataArray`` object\n",
      "    \n",
      "    Arguments\n",
      "    ---------\n",
      "    data    :   array\n",
      "                data values stored in 1d array\n",
      "    coords  :   Dictionary/xarray.core.coordinates.DataArrayCoordinates\n",
      "                coordinates from original DataArray\n",
      "    Returns\n",
      "    -------\n",
      "    \n",
      "    da : xarray.DataArray\n",
      "        instance of xarray.DataArray\n",
      "\n"
     ]
    }
   ],
   "source": [
    "# Let's check the method first\n",
    "help(w_rook.to_xarray)"
   ]
  },
  {
   "cell_type": "code",
   "execution_count": 13,
   "metadata": {},
   "outputs": [],
   "source": [
    "# here we can see how `attrs` is being utilized\n",
    "def w2da(data, w, coords=None):\n",
    "    \"\"\"\n",
    "    converts calculated results to a DataArray\n",
    "\n",
    "    Arguments\n",
    "    ---------\n",
    "    data    :   array\n",
    "                data values stored in 1d array\n",
    "    w       :   W object\n",
    "                weight object obtained from DataArray\n",
    "    coords  :   Dictionary/xarray.core.coordinates.DataArrayCoordinates\n",
    "                coordinates from original DataArray\n",
    "    Returns\n",
    "    -------\n",
    "\n",
    "    da : xarray.DataArray\n",
    "         instance of xarray.DataArray\n",
    "    \"\"\"\n",
    "    attrs = w.attrs\n",
    "    dims = attrs.pop('dims')\n",
    "    shape = attrs.pop('shape')\n",
    "    if coords is not None:\n",
    "        shape = tuple(len(value) for value in coords.values())\n",
    "        dims = tuple(key for key in coords.keys())\n",
    "    else:\n",
    "        coords = {}\n",
    "        nx, ny = shape[2], shape[1]\n",
    "        transform = Affine(*attrs[\"transform\"])\n",
    "        x, _ = transform * (np.arange(nx) + 0.5, np.zeros(nx) + 0.5)\n",
    "        _, y = transform * (np.zeros(ny) + 0.5, np.arange(ny) + 0.5)\n",
    "        coords[\"band\"] = np.ones(1)\n",
    "        coords[\"y\"] = y\n",
    "        coords[\"x\"] = x\n",
    "    ser = pd.Series(data, index=w.id_order)\n",
    "    n = shape[1]*shape[2]\n",
    "    ser = ser.reindex(index=range(n), fill_value=attrs['nodatavals'][0])\n",
    "    data = ser.to_numpy().reshape((shape))\n",
    "    da = DataArray(data=data, dims=dims, coords=coords, attrs=attrs)\n",
    "    return da"
   ]
  },
  {
   "cell_type": "code",
   "execution_count": 14,
   "metadata": {},
   "outputs": [],
   "source": [
    "# Converting obtained data back to DataArray\n",
    "moran_da1 = w_rook.to_xarray(lisa.p_sim)"
   ]
  },
  {
   "cell_type": "code",
   "execution_count": 15,
   "metadata": {},
   "outputs": [
    {
     "data": {
      "text/plain": [
       "<matplotlib.collections.QuadMesh at 0x7fe1d3ffa050>"
      ]
     },
     "execution_count": 15,
     "metadata": {},
     "output_type": "execute_result"
    },
    {
     "data": {
      "image/png": "[encoded data removed]",
      "text/plain": [
       "<Figure size 432x288 with 2 Axes>"
      ]
     },
     "metadata": {
      "needs_background": "light"
     },
     "output_type": "display_data"
    }
   ],
   "source": [
    "# Plotting the converted DataArray\n",
    "moran_da1.where(moran_da1.data>0).plot()"
   ]
  },
  {
   "cell_type": "markdown",
   "metadata": {},
   "source": [
    "Lets create distance weights from `DataArray`"
   ]
  },
  {
   "cell_type": "code",
   "execution_count": 16,
   "metadata": {},
   "outputs": [],
   "source": [
    "# Multiband band raster data with no missing values\n",
    "da1 = xr.open_rasterio('nasadem_sd.tif')\n",
    "# Slicing the dataarray\n",
    "da1 = da1[:, 0:100, 350:400]"
   ]
  },
  {
   "cell_type": "code",
   "execution_count": 17,
   "metadata": {},
   "outputs": [
    {
     "name": "stderr",
     "output_type": "stream",
     "text": [
      "/data/GSoC/libpysal/libpysal/weights/weights.py:172: UserWarning: The weights matrix is not fully connected: \n",
      " There are 364 disconnected components.\n",
      "  warnings.warn(message)\n",
      "/data/GSoC/libpysal/libpysal/weights/weights.py:172: UserWarning: The weights matrix is not fully connected: \n",
      " There are 253 disconnected components.\n",
      " There is 1 island with id: 2066.\n",
      "  warnings.warn(message)\n"
     ]
    }
   ],
   "source": [
    "# Uses coordinates of each pixel to determine nearest neighbor\n",
    "w_knn = KNN.from_xarray(da1, k=2)"
   ]
  },
  {
   "cell_type": "code",
   "execution_count": 20,
   "metadata": {},
   "outputs": [
    {
     "data": {
      "text/plain": [
       "[(0, 1), (1, 22), (2, 3347)]"
      ]
     },
     "execution_count": 20,
     "metadata": {},
     "output_type": "execute_result"
    }
   ],
   "source": [
    "w_knn.histogram"
   ]
  },
  {
   "cell_type": "markdown",
   "metadata": {},
   "source": [
    "Since the API part is almost over, I've started working on the optimization part:\n",
    "- creating weights object directly from non-missing values\n",
    "- involving Numba into existing methods for speeding up the creation\n",
    "\n",
    "**What do you guys think regarding current API and the attribute situation?**\n",
    "\n",
    "Once this is completed I can finish up the tests and add docstring examples"
   ]
  }
 ],
 "metadata": {
  "kernelspec": {
   "display_name": "Python 3",
   "language": "python",
   "name": "python3"
  },
  "language_info": {
   "codemirror_mode": {
    "name": "ipython",
    "version": 3
   },
   "file_extension": ".py",
   "mimetype": "text/x-python",
   "name": "python",
   "nbconvert_exporter": "python",
   "pygments_lexer": "ipython3",
   "version": "3.7.6"
  }
 },
 "nbformat": 4,
 "nbformat_minor": 4
}