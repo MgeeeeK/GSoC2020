{
 "cells": [
  {
   "cell_type": "code",
   "execution_count": 1,
   "metadata": {},
   "outputs": [],
   "source": [
    "import numpy as np\n",
    "import pandas as pd\n",
    "import xarray as xr\n",
    "from libpysal.weights import *"
   ]
  },
  {
   "cell_type": "code",
   "execution_count": 2,
   "metadata": {},
   "outputs": [],
   "source": [
    "def xrast2W(rasterf, rook=True, **kwargs):\n",
    "    \"\"\"\n",
    "    Create a W object from rasters(xarray.DataArray)\n",
    "    \n",
    "    Parameters\n",
    "    ----------\n",
    "    raster     : xarray.DataArray\n",
    "                 raster file accessed using xarray.open_rasterio method\n",
    "    rook       : boolean\n",
    "                 type of contiguity. Default is rook. For queen, rook =False\n",
    "    **kwargs   : keyword arguments\n",
    "                 optional arguments for :class:`pysal.weights.W`\n",
    "    Returns\n",
    "    -------\n",
    "    w    : libpysal.weights.W\n",
    "           instance of spatial weights class W\n",
    "    data : pandas.Series\n",
    "           Values from `raster` as a vector of dimension (`w.n` x\n",
    "           None) aligned with `w`            \n",
    "    \"\"\"\n",
    "    w = lat2W(*rasterf[0].shape, rook=rook, **kwargs)\n",
    "    if isinstance(rasterf, xr.DataArray):\n",
    "        rasterf_masked = rasterf.where(rasterf.data != rasterf.nodatavals[0])\n",
    "        rasterf_masked = rasterf_masked[0].data.flatten()\n",
    "        id_order = np.argwhere(~np.isnan(rasterf_masked)).flatten()\n",
    "        w = w_subset(w, id_order)\n",
    "        data = rasterf_masked[~np.isnan(rasterf_masked)]\n",
    "        data = pd.Series(data,index=id_order)\n",
    "    return w, data"
   ]
  },
  {
   "cell_type": "code",
   "execution_count": 3,
   "metadata": {},
   "outputs": [],
   "source": [
    "def xrast2SW(rasterf, criterion=\"rook\"):\n",
    "    \"\"\"\n",
    "    Generate a sparse W matrix from rasters(xarray.DataArray)\n",
    "    \n",
    "    Parameters\n",
    "    ----------\n",
    "    raster     : xarray.DataArray\n",
    "                 raster file accessed using xarray.open_rasterio method\n",
    "    rook       : {\"rook\", \"queen\"}\n",
    "                 type of contiguity. Default is rook.\n",
    "    Returns\n",
    "    -------\n",
    "    w    : scipy.sparse.csr_matrix\n",
    "           instance of a scipy sparse matrix\n",
    "    data : pandas.Series\n",
    "           Values from `raster` as a vector of dimension (`w.n` x\n",
    "           None) aligned with `w`            \n",
    "    \"\"\"\n",
    "\n",
    "    sw = lat2SW(*rasterf[0].shape, criterion=criterion)\n",
    "    if isinstance(rasterf, xr.DataArray):\n",
    "        rasterf_masked = rasterf.where(rasterf.data != rasterf.nodatavals[0])\n",
    "        rasterf_masked = rasterf_masked[0].data.flatten()\n",
    "        sw = sw.multiply((~np.isnan(rasterf_masked))[np.newaxis].T)\n",
    "        sw = sw.multiply((~np.isnan(rasterf_masked))).tocsr()\n",
    "        id_order = np.argwhere(~np.isnan(rasterf_masked)).flatten()\n",
    "        data = rasterf_masked[~np.isnan(rasterf_masked)]\n",
    "        data = pd.Series(data,index=id_order)\n",
    "    return sw, data"
   ]
  },
  {
   "cell_type": "code",
   "execution_count": 4,
   "metadata": {},
   "outputs": [
    {
     "output_type": "execute_result",
     "data": {
      "text/plain": "<xarray.DataArray (band: 1, y: 30, x: 940)>\narray([[[-99999., -99999., ..., -99999., -99999.],\n        [-99999., -99999., ..., -99999., -99999.],\n        ...,\n        [-99999., -99999., ..., -99999., -99999.],\n        [-99999., -99999., ..., -99999., -99999.]]], dtype=float32)\nCoordinates:\n  * band     (band) int64 1\n  * y        (y) float64 50.18 50.18 50.18 50.18 ... 50.16 50.16 50.16 50.16\n  * x        (x) float64 5.745 5.746 5.747 5.747 ... 6.525 6.526 6.527 6.527\nAttributes:\n    transform:      (0.0008333333297872345, 0.0, 5.744583325, 0.0, -0.0008333...\n    crs:            +init=epsg:4326\n    res:            (0.0008333333297872345, 0.0008333333295454553)\n    is_tiled:       0\n    nodatavals:     (-99999.0,)\n    scales:         (1.0,)\n    offsets:        (0.0,)\n    AREA_OR_POINT:  Area",
      "text/html": "<div><svg style=\"position: absolute; width: 0; height: 0; overflow: hidden\">\n<defs>\n<symbol id=\"icon-database\" viewBox=\"0 0 32 32\">\n<title>Show/Hide data repr</title>\n<path d=\"M16 0c-8.837 0-16 2.239-16 5v4c0 2.761 7.163 5 16 5s16-2.239 16-5v-4c0-2.761-7.163-5-16-5z\"></path>\n<path d=\"M16 17c-8.837 0-16-2.239-16-5v6c0 2.761 7.163 5 16 5s16-2.239 16-5v-6c0 2.761-7.163 5-16 5z\"></path>\n<path d=\"M16 26c-8.837 0-16-2.239-16-5v6c0 2.761 7.163 5 16 5s16-2.239 16-5v-6c0 2.761-7.163 5-16 5z\"></path>\n</symbol>\n<symbol id=\"icon-file-text2\" viewBox=\"0 0 32 32\">\n<title>Show/Hide attributes</title>\n<path d=\"M28.681 7.159c-0.694-0.947-1.662-2.053-2.724-3.116s-2.169-2.030-3.116-2.724c-1.612-1.182-2.393-1.319-2.841-1.319h-15.5c-1.378 0-2.5 1.121-2.5 2.5v27c0 1.378 1.122 2.5 2.5 2.5h23c1.378 0 2.5-1.122 2.5-2.5v-19.5c0-0.448-0.137-1.23-1.319-2.841zM24.543 5.457c0.959 0.959 1.712 1.825 2.268 2.543h-4.811v-4.811c0.718 0.556 1.584 1.309 2.543 2.268zM28 29.5c0 0.271-0.229 0.5-0.5 0.5h-23c-0.271 0-0.5-0.229-0.5-0.5v-27c0-0.271 0.229-0.5 0.5-0.5 0 0 15.499-0 15.5 0v7c0 0.552 0.448 1 1 1h7v19.5z\"></path>\n<path d=\"M23 26h-14c-0.552 0-1-0.448-1-1s0.448-1 1-1h14c0.552 0 1 0.448 1 1s-0.448 1-1 1z\"></path>\n<path d=\"M23 22h-14c-0.552 0-1-0.448-1-1s0.448-1 1-1h14c0.552 0 1 0.448 1 1s-0.448 1-1 1z\"></path>\n<path d=\"M23 18h-14c-0.552 0-1-0.448-1-1s0.448-1 1-1h14c0.552 0 1 0.448 1 1s-0.448 1-1 1z\"></path>\n</symbol>\n</defs>\n</svg>\n<style>/* CSS stylesheet for displaying xarray objects in jupyterlab.\n *\n */\n\n:root {\n  --xr-font-color0: var(--jp-content-font-color0, rgba(0, 0, 0, 1));\n  --xr-font-color2: var(--jp-content-font-color2, rgba(0, 0, 0, 0.54));\n  --xr-font-color3: var(--jp-content-font-color3, rgba(0, 0, 0, 0.38));\n  --xr-border-color: var(--jp-border-color2, #e0e0e0);\n  --xr-disabled-color: var(--jp-layout-color3, #bdbdbd);\n  --xr-background-color: var(--jp-layout-color0, white);\n  --xr-background-color-row-even: var(--jp-layout-color1, white);\n  --xr-background-color-row-odd: var(--jp-layout-color2, #eeeeee);\n}\n\n.xr-wrap {\n  min-width: 300px;\n  max-width: 700px;\n}\n\n.xr-header {\n  padding-top: 6px;\n  padding-bottom: 6px;\n  margin-bottom: 4px;\n  border-bottom: solid 1px var(--xr-border-color);\n}\n\n.xr-header > div,\n.xr-header > ul {\n  display: inline;\n  margin-top: 0;\n  margin-bottom: 0;\n}\n\n.xr-obj-type,\n.xr-array-name {\n  margin-left: 2px;\n  margin-right: 10px;\n}\n\n.xr-obj-type {\n  color: var(--xr-font-color2);\n}\n\n.xr-sections {\n  padding-left: 0 !important;\n  display: grid;\n  grid-template-columns: 150px auto auto 1fr 20px 20px;\n}\n\n.xr-section-item {\n  display: contents;\n}\n\n.xr-section-item input {\n  display: none;\n}\n\n.xr-section-item input + label {\n  color: var(--xr-disabled-color);\n}\n\n.xr-section-item input:enabled + label {\n  cursor: pointer;\n  color: var(--xr-font-color2);\n}\n\n.xr-section-item input:enabled + label:hover {\n  color: var(--xr-font-color0);\n}\n\n.xr-section-summary {\n  grid-column: 1;\n  color: var(--xr-font-color2);\n  font-weight: 500;\n}\n\n.xr-section-summary > span {\n  display: inline-block;\n  padding-left: 0.5em;\n}\n\n.xr-section-summary-in:disabled + label {\n  color: var(--xr-font-color2);\n}\n\n.xr-section-summary-in + label:before {\n  display: inline-block;\n  content: '►';\n  font-size: 11px;\n  width: 15px;\n  text-align: center;\n}\n\n.xr-section-summary-in:disabled + label:before {\n  color: var(--xr-disabled-color);\n}\n\n.xr-section-summary-in:checked + label:before {\n  content: '▼';\n}\n\n.xr-section-summary-in:checked + label > span {\n  display: none;\n}\n\n.xr-section-summary,\n.xr-section-inline-details {\n  padding-top: 4px;\n  padding-bottom: 4px;\n}\n\n.xr-section-inline-details {\n  grid-column: 2 / -1;\n}\n\n.xr-section-details {\n  display: none;\n  grid-column: 1 / -1;\n  margin-bottom: 5px;\n}\n\n.xr-section-summary-in:checked ~ .xr-section-details {\n  display: contents;\n}\n\n.xr-array-wrap {\n  grid-column: 1 / -1;\n  display: grid;\n  grid-template-columns: 20px auto;\n}\n\n.xr-array-wrap > label {\n  grid-column: 1;\n  vertical-align: top;\n}\n\n.xr-preview {\n  color: var(--xr-font-color3);\n}\n\n.xr-array-preview,\n.xr-array-data {\n  padding: 0 5px !important;\n  grid-column: 2;\n}\n\n.xr-array-data,\n.xr-array-in:checked ~ .xr-array-preview {\n  display: none;\n}\n\n.xr-array-in:checked ~ .xr-array-data,\n.xr-array-preview {\n  display: inline-block;\n}\n\n.xr-dim-list {\n  display: inline-block !important;\n  list-style: none;\n  padding: 0 !important;\n  margin: 0;\n}\n\n.xr-dim-list li {\n  display: inline-block;\n  padding: 0;\n  margin: 0;\n}\n\n.xr-dim-list:before {\n  content: '(';\n}\n\n.xr-dim-list:after {\n  content: ')';\n}\n\n.xr-dim-list li:not(:last-child):after {\n  content: ',';\n  padding-right: 5px;\n}\n\n.xr-has-index {\n  font-weight: bold;\n}\n\n.xr-var-list,\n.xr-var-item {\n  display: contents;\n}\n\n.xr-var-item > div,\n.xr-var-item label,\n.xr-var-item > .xr-var-name span {\n  background-color: var(--xr-background-color-row-even);\n  margin-bottom: 0;\n}\n\n.xr-var-item > .xr-var-name:hover span {\n  padding-right: 5px;\n}\n\n.xr-var-list > li:nth-child(odd) > div,\n.xr-var-list > li:nth-child(odd) > label,\n.xr-var-list > li:nth-child(odd) > .xr-var-name span {\n  background-color: var(--xr-background-color-row-odd);\n}\n\n.xr-var-name {\n  grid-column: 1;\n}\n\n.xr-var-dims {\n  grid-column: 2;\n}\n\n.xr-var-dtype {\n  grid-column: 3;\n  text-align: right;\n  color: var(--xr-font-color2);\n}\n\n.xr-var-preview {\n  grid-column: 4;\n}\n\n.xr-var-name,\n.xr-var-dims,\n.xr-var-dtype,\n.xr-preview,\n.xr-attrs dt {\n  white-space: nowrap;\n  overflow: hidden;\n  text-overflow: ellipsis;\n  padding-right: 10px;\n}\n\n.xr-var-name:hover,\n.xr-var-dims:hover,\n.xr-var-dtype:hover,\n.xr-attrs dt:hover {\n  overflow: visible;\n  width: auto;\n  z-index: 1;\n}\n\n.xr-var-attrs,\n.xr-var-data {\n  display: none;\n  background-color: var(--xr-background-color) !important;\n  padding-bottom: 5px !important;\n}\n\n.xr-var-attrs-in:checked ~ .xr-var-attrs,\n.xr-var-data-in:checked ~ .xr-var-data {\n  display: block;\n}\n\n.xr-var-data > table {\n  float: right;\n}\n\n.xr-var-name span,\n.xr-var-data,\n.xr-attrs {\n  padding-left: 25px !important;\n}\n\n.xr-attrs,\n.xr-var-attrs,\n.xr-var-data {\n  grid-column: 1 / -1;\n}\n\ndl.xr-attrs {\n  padding: 0;\n  margin: 0;\n  display: grid;\n  grid-template-columns: 125px auto;\n}\n\n.xr-attrs dt, dd {\n  padding: 0;\n  margin: 0;\n  float: left;\n  padding-right: 10px;\n  width: auto;\n}\n\n.xr-attrs dt {\n  font-weight: normal;\n  grid-column: 1;\n}\n\n.xr-attrs dt:hover span {\n  display: inline-block;\n  background: var(--xr-background-color);\n  padding-right: 10px;\n}\n\n.xr-attrs dd {\n  grid-column: 2;\n  white-space: pre-wrap;\n  word-break: break-all;\n}\n\n.xr-icon-database,\n.xr-icon-file-text2 {\n  display: inline-block;\n  vertical-align: middle;\n  width: 1em;\n  height: 1.5em !important;\n  stroke-width: 0;\n  stroke: currentColor;\n  fill: currentColor;\n}\n</style><div class='xr-wrap'><div class='xr-header'><div class='xr-obj-type'>xarray.DataArray</div><div class='xr-array-name'></div><ul class='xr-dim-list'><li><span class='xr-has-index'>band</span>: 1</li><li><span class='xr-has-index'>y</span>: 30</li><li><span class='xr-has-index'>x</span>: 940</li></ul></div><ul class='xr-sections'><li class='xr-section-item'><div class='xr-array-wrap'><input id='section-86204067-23d7-4ab2-bce3-401f5b6abc3c' class='xr-array-in' type='checkbox' ><label for='section-86204067-23d7-4ab2-bce3-401f5b6abc3c' title='Show/hide data repr'><svg class='icon xr-icon-database'><use xlink:href='#icon-database'></use></svg></label><div class='xr-array-preview xr-preview'><span>-99999.0 -99999.0 -99999.0 -99999.0 ... -99999.0 -99999.0 -99999.0</span></div><pre class='xr-array-data'>array([[[-99999., -99999., ..., -99999., -99999.],\n        [-99999., -99999., ..., -99999., -99999.],\n        ...,\n        [-99999., -99999., ..., -99999., -99999.],\n        [-99999., -99999., ..., -99999., -99999.]]], dtype=float32)</pre></div></li><li class='xr-section-item'><input id='section-5294046e-e75c-4370-a384-f54b93661ff6' class='xr-section-summary-in' type='checkbox'  checked><label for='section-5294046e-e75c-4370-a384-f54b93661ff6' class='xr-section-summary' >Coordinates: <span>(3)</span></label><div class='xr-section-inline-details'></div><div class='xr-section-details'><ul class='xr-var-list'><li class='xr-var-item'><div class='xr-var-name'><span class='xr-has-index'>band</span></div><div class='xr-var-dims'>(band)</div><div class='xr-var-dtype'>int64</div><div class='xr-var-preview xr-preview'>1</div><input id='attrs-b9a3247e-95bf-48ea-a972-50d26f246be5' class='xr-var-attrs-in' type='checkbox' disabled><label for='attrs-b9a3247e-95bf-48ea-a972-50d26f246be5' title='Show/Hide attributes'><svg class='icon xr-icon-file-text2'><use xlink:href='#icon-file-text2'></use></svg></label><input id='data-f0100665-024b-4359-a627-ab5e9122c9b4' class='xr-var-data-in' type='checkbox'><label for='data-f0100665-024b-4359-a627-ab5e9122c9b4' title='Show/Hide data repr'><svg class='icon xr-icon-database'><use xlink:href='#icon-database'></use></svg></label><div class='xr-var-attrs'><dl class='xr-attrs'></dl></div><pre class='xr-var-data'>array([1])</pre></li><li class='xr-var-item'><div class='xr-var-name'><span class='xr-has-index'>y</span></div><div class='xr-var-dims'>(y)</div><div class='xr-var-dtype'>float64</div><div class='xr-var-preview xr-preview'>50.18 50.18 50.18 ... 50.16 50.16</div><input id='attrs-8ac10022-1e63-40f8-a155-a34e142fa7be' class='xr-var-attrs-in' type='checkbox' disabled><label for='attrs-8ac10022-1e63-40f8-a155-a34e142fa7be' title='Show/Hide attributes'><svg class='icon xr-icon-file-text2'><use xlink:href='#icon-file-text2'></use></svg></label><input id='data-4fbceae6-ec6e-4297-99e2-f1a07f15a5fc' class='xr-var-data-in' type='checkbox'><label for='data-4fbceae6-ec6e-4297-99e2-f1a07f15a5fc' title='Show/Hide data repr'><svg class='icon xr-icon-database'><use xlink:href='#icon-database'></use></svg></label><div class='xr-var-attrs'><dl class='xr-attrs'></dl></div><pre class='xr-var-data'>array([50.180833, 50.18    , 50.179167, 50.178333, 50.1775  , 50.176667,\n       50.175833, 50.175   , 50.174167, 50.173333, 50.1725  , 50.171667,\n       50.170833, 50.17    , 50.169167, 50.168333, 50.1675  , 50.166667,\n       50.165833, 50.165   , 50.164167, 50.163333, 50.1625  , 50.161667,\n       50.160833, 50.16    , 50.159167, 50.158333, 50.1575  , 50.156667])</pre></li><li class='xr-var-item'><div class='xr-var-name'><span class='xr-has-index'>x</span></div><div class='xr-var-dims'>(x)</div><div class='xr-var-dtype'>float64</div><div class='xr-var-preview xr-preview'>5.745 5.746 5.747 ... 6.527 6.527</div><input id='attrs-e56013f8-ef56-43e7-89d9-820f4fb4eb5d' class='xr-var-attrs-in' type='checkbox' disabled><label for='attrs-e56013f8-ef56-43e7-89d9-820f4fb4eb5d' title='Show/Hide attributes'><svg class='icon xr-icon-file-text2'><use xlink:href='#icon-file-text2'></use></svg></label><input id='data-2bea9c3d-210f-46e1-a83a-5a034fe9f418' class='xr-var-data-in' type='checkbox'><label for='data-2bea9c3d-210f-46e1-a83a-5a034fe9f418' title='Show/Hide data repr'><svg class='icon xr-icon-database'><use xlink:href='#icon-database'></use></svg></label><div class='xr-var-attrs'><dl class='xr-attrs'></dl></div><pre class='xr-var-data'>array([5.745   , 5.745833, 5.746667, ..., 6.525833, 6.526667, 6.5275  ])</pre></li></ul></div></li><li class='xr-section-item'><input id='section-276cdf36-a3eb-4ff1-bfe3-2cf85ef81589' class='xr-section-summary-in' type='checkbox'  checked><label for='section-276cdf36-a3eb-4ff1-bfe3-2cf85ef81589' class='xr-section-summary' >Attributes: <span>(8)</span></label><div class='xr-section-inline-details'></div><div class='xr-section-details'><dl class='xr-attrs'><dt><span>transform :</span></dt><dd>(0.0008333333297872345, 0.0, 5.744583325, 0.0, -0.0008333333295454553, 50.18125)</dd><dt><span>crs :</span></dt><dd>+init=epsg:4326</dd><dt><span>res :</span></dt><dd>(0.0008333333297872345, 0.0008333333295454553)</dd><dt><span>is_tiled :</span></dt><dd>0</dd><dt><span>nodatavals :</span></dt><dd>(-99999.0,)</dd><dt><span>scales :</span></dt><dd>(1.0,)</dd><dt><span>offsets :</span></dt><dd>(0.0,)</dd><dt><span>AREA_OR_POINT :</span></dt><dd>Area</dd></dl></div></li></ul></div></div>"
     },
     "metadata": {},
     "execution_count": 4
    }
   ],
   "source": [
    "da = xr.open_rasterio('/home/magito/GSoC/test-notes/lux_ppp_2019.tif')\n",
    "da = da[:,:30,:]\n",
    "da"
   ]
  },
  {
   "cell_type": "code",
   "execution_count": 5,
   "metadata": {},
   "outputs": [],
   "source": [
    "w, data = xrast2W(da)"
   ]
  },
  {
   "cell_type": "code",
   "execution_count": 6,
   "metadata": {},
   "outputs": [
    {
     "output_type": "execute_result",
     "data": {
      "text/plain": "[(332, [1272, 333]),\n (333, [1273, 332, 334]),\n (334, [1274, 333, 335]),\n (335, [336, 1275, 334]),\n (336, [1276, 335]),\n (1268, [2208, 1269]),\n (1269, [2209, 1268, 1270]),\n (1270, [2210, 1269, 1271]),\n (1271, [1272, 2211, 1270]),\n (1272, [1273, 1271, 2212, 332])]"
     },
     "metadata": {},
     "execution_count": 6
    }
   ],
   "source": [
    "from itertools import islice\n",
    "\n",
    "def take(n, iterable):\n",
    "    return list(islice(iterable, n))\n",
    "\n",
    "take(10, w.neighbors.items())"
   ]
  },
  {
   "cell_type": "code",
   "execution_count": 7,
   "metadata": {},
   "outputs": [
    {
     "output_type": "execute_result",
     "data": {
      "text/plain": "332    2.473892\n333    2.568437\n334    2.164773\n335    1.874968\n336    1.179762\ndtype: float32"
     },
     "metadata": {},
     "execution_count": 7
    }
   ],
   "source": [
    "data.head()"
   ]
  },
  {
   "cell_type": "code",
   "execution_count": 8,
   "metadata": {},
   "outputs": [],
   "source": [
    "ws, data = xrast2SW(da)"
   ]
  },
  {
   "cell_type": "code",
   "execution_count": 9,
   "metadata": {},
   "outputs": [
    {
     "output_type": "execute_result",
     "data": {
      "text/plain": "matrix([[0, 0, 0, ..., 0, 0, 0]], dtype=int8)"
     },
     "metadata": {},
     "execution_count": 9
    }
   ],
   "source": [
    "ws[0].todense()"
   ]
  },
  {
   "cell_type": "code",
   "execution_count": 10,
   "metadata": {},
   "outputs": [
    {
     "output_type": "execute_result",
     "data": {
      "text/plain": "0"
     },
     "metadata": {},
     "execution_count": 10
    }
   ],
   "source": [
    "ws[0].todense().sum()"
   ]
  },
  {
   "cell_type": "code",
   "execution_count": 11,
   "metadata": {},
   "outputs": [
    {
     "output_type": "execute_result",
     "data": {
      "text/plain": "2"
     },
     "metadata": {},
     "execution_count": 11
    }
   ],
   "source": [
    "ws[332].todense().sum()"
   ]
  }
 ],
 "metadata": {
  "language_info": {
   "codemirror_mode": {
    "name": "ipython",
    "version": 3
   },
   "file_extension": ".py",
   "mimetype": "text/x-python",
   "name": "python",
   "nbconvert_exporter": "python",
   "pygments_lexer": "ipython3",
   "version": "3.7.6-final"
  },
  "orig_nbformat": 2,
  "kernelspec": {
   "name": "python3",
   "display_name": "Python 3"
  }
 },
 "nbformat": 4,
 "nbformat_minor": 2
}