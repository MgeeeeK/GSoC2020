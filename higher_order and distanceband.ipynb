{
 "cells": [
  {
   "cell_type": "markdown",
   "metadata": {},
   "source": [
    "### Testing Higher-Order and DistanceBand functionality for WSP builder\n",
    "\n",
    "All tests are performed on [dual-core, 4 threads, i-5 7200U cpu], Order of testing is as follows:\n",
    "#### performance tests\n",
    "- **numba-fied**\n",
    " - _`order`_ = 1, _`contiguity`_ = `queen`, [3,4]\n",
    "- **numba+multithreading**\n",
    " - _`order`_ = 1, _`contiguity`_ = `queen`, [5,6]\n",
    "- **higher_order**\n",
    " -  _`order`_ = 2, _`contiguity`_ = `queen`, [7,8]\n",
    "- **distance_band**\n",
    " -  _`order`_ = 2, _`contiguity`_ = `queen`, [9,10]\n",
    "\n",
    "#### functional tests\n",
    "Performed on dataset not containing missing values.\n",
    "- **Rook**\n",
    " -  _`order`_ = 3, [12]\n",
    "- **queen**\n",
    " -  _`order`_ = 2, [13]\n"
   ]
  },
  {
   "cell_type": "code",
   "execution_count": 1,
   "metadata": {
    "scrolled": true
   },
   "outputs": [],
   "source": [
    "from libpysal.weights import *\n",
    "import numpy as np\n",
    "import xarray as xr\n",
    "from splot import libpysal as splot\n",
    "import matplotlib.pyplot as plt\n",
    "%reload_ext memory_profiler"
   ]
  },
  {
   "cell_type": "code",
   "execution_count": 2,
   "metadata": {
    "scrolled": true
   },
   "outputs": [
    {
     "data": {
      "text/plain": [
       "(1, 3515, 5510)"
      ]
     },
     "execution_count": 2,
     "metadata": {},
     "output_type": "execute_result"
    }
   ],
   "source": [
    "da = xr.open_rasterio(\"nasadem_sd.tif\") \n",
    "da.shape"
   ]
  },
  {
   "cell_type": "code",
   "execution_count": 3,
   "metadata": {
    "scrolled": true
   },
   "outputs": [
    {
     "name": "stdout",
     "output_type": "stream",
     "text": [
      "peak memory: 2242.64 MiB, increment: 1962.98 MiB\n"
     ]
    }
   ],
   "source": [
    "# numba-fied\n",
    "%memit da2WSP(da, \"queen\", k=1, n_jobs=1)"
   ]
  },
  {
   "cell_type": "code",
   "execution_count": 4,
   "metadata": {
    "scrolled": true
   },
   "outputs": [
    {
     "name": "stdout",
     "output_type": "stream",
     "text": [
      "3.69 s ± 5.47 ms per loop (mean ± std. dev. of 7 runs, 1 loop each)\n"
     ]
    }
   ],
   "source": [
    "# numba-fied\n",
    "%timeit da2WSP(da, \"queen\", k=1, n_jobs=1)"
   ]
  },
  {
   "cell_type": "code",
   "execution_count": 5,
   "metadata": {
    "scrolled": true
   },
   "outputs": [
    {
     "name": "stdout",
     "output_type": "stream",
     "text": [
      "peak memory: 2408.55 MiB, increment: 2007.60 MiB\n"
     ]
    }
   ],
   "source": [
    "# numba+multithreading\n",
    "%memit da2WSP(da, \"queen\", k=1, n_jobs=-1)"
   ]
  },
  {
   "cell_type": "code",
   "execution_count": 6,
   "metadata": {
    "scrolled": false
   },
   "outputs": [
    {
     "name": "stdout",
     "output_type": "stream",
     "text": [
      "3.3 s ± 4.65 ms per loop (mean ± std. dev. of 7 runs, 1 loop each)\n"
     ]
    }
   ],
   "source": [
    "# numba+multithreading\n",
    "%timeit da2WSP(da, \"queen\", k=1, n_jobs=-1)"
   ]
  },
  {
   "cell_type": "code",
   "execution_count": 7,
   "metadata": {},
   "outputs": [
    {
     "name": "stdout",
     "output_type": "stream",
     "text": [
      "peak memory: 5533.53 MiB, increment: 5131.91 MiB\n"
     ]
    }
   ],
   "source": [
    "# higher_order, order=2\n",
    "%memit da2WSP(da, \"queen\", k=2, n_jobs=-1)"
   ]
  },
  {
   "cell_type": "code",
   "execution_count": 8,
   "metadata": {},
   "outputs": [
    {
     "name": "stdout",
     "output_type": "stream",
     "text": [
      "10.3 s ± 27.6 ms per loop (mean ± std. dev. of 7 runs, 1 loop each)\n"
     ]
    }
   ],
   "source": [
    "# higher_order, order=2\n",
    "%timeit da2WSP(da, \"queen\", k=2, n_jobs=-1)"
   ]
  },
  {
   "cell_type": "code",
   "execution_count": 9,
   "metadata": {},
   "outputs": [
    {
     "name": "stdout",
     "output_type": "stream",
     "text": [
      "peak memory: 6446.82 MiB, increment: 6044.85 MiB\n"
     ]
    }
   ],
   "source": [
    "# distance_band, threshold=2 \n",
    "%memit da2WSP(da, \"queen\", k=2, n_jobs=-1, distance_band=True)"
   ]
  },
  {
   "cell_type": "code",
   "execution_count": 10,
   "metadata": {
    "scrolled": true
   },
   "outputs": [
    {
     "name": "stdout",
     "output_type": "stream",
     "text": [
      "9.8 s ± 33.3 ms per loop (mean ± std. dev. of 7 runs, 1 loop each)\n"
     ]
    }
   ],
   "source": [
    "# distance_band, threshold=2 \n",
    "%timeit da2WSP(da, \"queen\", k=2, n_jobs=-1, distance_band=True)"
   ]
  },
  {
   "cell_type": "code",
   "execution_count": 11,
   "metadata": {},
   "outputs": [
    {
     "data": {
      "text/plain": [
       "(1, 2317, 3073)"
      ]
     },
     "execution_count": 11,
     "metadata": {},
     "output_type": "execute_result"
    }
   ],
   "source": [
    "da = xr.open_rasterio(\"HARV_RGB_Ortho.tif\")\n",
    "da = da[:1]\n",
    "da.shape"
   ]
  },
  {
   "cell_type": "code",
   "execution_count": 12,
   "metadata": {},
   "outputs": [
    {
     "data": {
      "text/plain": [
       "0"
      ]
     },
     "execution_count": 12,
     "metadata": {},
     "output_type": "execute_result"
    }
   ],
   "source": [
    "# checking for the correct result\n",
    "wsp_ho = da2WSP(da, \"rook\", k=3, n_jobs=-1)\n",
    "wsp_db = da2WSP(da, \"rook\", k=3, n_jobs=-1, distance_band=True)\n",
    "(wsp_ho.sparse-wsp_db.sparse).nnz"
   ]
  },
  {
   "cell_type": "code",
   "execution_count": 13,
   "metadata": {},
   "outputs": [
    {
     "data": {
      "text/plain": [
       "0"
      ]
     },
     "execution_count": 13,
     "metadata": {},
     "output_type": "execute_result"
    }
   ],
   "source": [
    "wsp_ho = da2WSP(da, \"queen\", k=2, n_jobs=-1)\n",
    "wsp_db = da2WSP(da, \"queen\", k=2, n_jobs=-1, distance_band=True)\n",
    "(wsp_ho.sparse-wsp_db.sparse).nnz"
   ]
  },
  {
   "cell_type": "code",
   "execution_count": 14,
   "metadata": {},
   "outputs": [
    {
     "name": "stderr",
     "output_type": "stream",
     "text": [
      "/home/magito/anaconda3/lib/python3.8/site-packages/scipy/sparse/_index.py:124: SparseEfficiencyWarning: Changing the sparsity structure of a csr_matrix is expensive. lil_matrix is more efficient.\n",
      "  self._set_arrayXarray(i, j, x)\n"
     ]
    },
    {
     "data": {
      "text/plain": [
       "(<Figure size 720x720 with 1 Axes>,\n",
       " <matplotlib.axes._subplots.AxesSubplot at 0x7f5d200e2eb0>)"
      ]
     },
     "execution_count": 14,
     "metadata": {},
     "output_type": "execute_result"
    },
    {
     "data": {
      "image/png": "[encoded data removed]",
      "text/plain": [
       "<Figure size 720x720 with 1 Axes>"
      ]
     },
     "metadata": {
      "needs_background": "light"
     },
     "output_type": "display_data"
    }
   ],
   "source": [
    "# higher_order, order=2\n",
    "da_s = raster.testDataArray((1,4,8))\n",
    "w_queen = raster.da2WSP(da_s, \"queen\", k=2)\n",
    "splot.plot_spatial_weights(w_queen, da=da_s)"
   ]
  },
  {
   "cell_type": "code",
   "execution_count": 15,
   "metadata": {},
   "outputs": [
    {
     "data": {
      "text/plain": [
       "(<Figure size 720x720 with 1 Axes>,\n",
       " <matplotlib.axes._subplots.AxesSubplot at 0x7f5d2041c2e0>)"
      ]
     },
     "execution_count": 15,
     "metadata": {},
     "output_type": "execute_result"
    },
    {
     "data": {
      "image/png": "[encoded data removed]",
      "text/plain": [
       "<Figure size 720x720 with 1 Axes>"
      ]
     },
     "metadata": {
      "needs_background": "light"
     },
     "output_type": "display_data"
    }
   ],
   "source": [
    "# higher_order, order=2\n",
    "da_s = raster.testDataArray((1,4,8))\n",
    "w_queen = raster.da2WSP(da_s, \"queen\", k=2, distance_band=True)\n",
    "splot.plot_spatial_weights(w_queen, da=da_s)"
   ]
  }
 ],
 "metadata": {
  "kernelspec": {
   "display_name": "Python 3",
   "language": "python",
   "name": "python3"
  },
  "language_info": {
   "codemirror_mode": {
    "name": "ipython",
    "version": 3
   },
   "file_extension": ".py",
   "mimetype": "text/x-python",
   "name": "python",
   "nbconvert_exporter": "python",
   "pygments_lexer": "ipython3",
   "version": "3.8.3"
  }
 },
 "nbformat": 4,
 "nbformat_minor": 2
}
